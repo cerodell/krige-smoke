{
 "cells": [
  {
   "cell_type": "markdown",
   "id": "6f8a4575",
   "metadata": {},
   "source": [
    "# Regression Kriging (RK)\n",
    "Regression kriging (RK) mathematically equivalent to the regression kriging or kriging with external drift, where auxiliary predictors are used directly to solve the kriging weights. Regression kriging combines a regression model with simple kriging of the regression residuals. The experimental variogram of residuals is first computed and modeled, and then simple kriging (SK) is applied to the residuals to give the spatial prediction of the residuals.\n",
    "\n",
    "$$\n",
    "\\begin{array}{l}Z_{R K}^{*}(u)=m_{R K}^{*}(u)+\\sum_{\\alpha=1}^{n(u)} \\lambda_{\\alpha}^{R K}(u) R\\left(u_{\\alpha}\\right)\\end{array}\n",
    "$$\n",
    "\n",
    "- Where $m^{*} R K(u \\alpha)$ is the regression estimate for location $u$ and $R(u \\alpha)$ are the residuals $[R(u \\alpha)-m(u \\alpha)]$ of the observed locations, $n(u)$.\n",
    "\n",
    "\n",
    "<div class=\"alert alert-info\">\n",
    "Note\n",
    "\n",
    "The definition above come from a [geospatial data science course](https://zia207.github.io/geospatial-r-github.io/index.html) created by [Prof. Zia Ahmed](https://www.buffalo.edu/renew/about-us/leadership/zia-ahmed.html) at The State of New York University at Buffalo.\n",
    " \n",
    "- Thanks Prof. Zia Ahmed for the great resource!  \n",
    "</div>"
   ]
  },
  {
   "cell_type": "markdown",
   "id": "d2c0fc21",
   "metadata": {
    "lines_to_next_cell": 0
   },
   "source": [
    "Load python modules"
   ]
  },
  {
   "cell_type": "code",
   "execution_count": null,
   "id": "e2fd3d14",
   "metadata": {},
   "outputs": [],
   "source": [
    "import context\n",
    "import salem\n",
    "import numpy as np\n",
    "import pandas as pd\n",
    "import xarray as xr\n",
    "import geopandas as gpd\n",
    "import cartopy.crs as ccrs\n",
    "import matplotlib.pyplot as plt\n",
    "import gstools as gs\n",
    "from scipy import stats\n",
    "\n",
    "import plotly.express as px\n",
    "from datetime import datetime\n",
    "\n",
    "from utils.utils import pixel2poly, plotvariogram\n",
    "from context import data_dir\n",
    "\n",
    "import warnings\n",
    "\n",
    "warnings.filterwarnings(\"ignore\")"
   ]
  },
  {
   "cell_type": "markdown",
   "id": "ca4ef233",
   "metadata": {
    "lines_to_next_cell": 0
   },
   "source": [
    "## Load Data\n",
    "Open data but leave in an earth latitude/longitude coordinate system (EPSG:4326).\n",
    "\n",
    "- We are not using the lambert conformal at this time because I struggled to implement Regression Kriging in the [PyKrig](https://geostat-framework.readthedocs.io/projects/pykrige/en/stable/index.html) python package. Instead, we are using the [GStools](https://geostat-framework.readthedocs.io/projects/gstools/en/stable/) python packaged.\n",
    "\n",
    " - With the [GStools](https://geostat-framework.readthedocs.io/projects/gstools/en/stable/) Packaged, I had issues working in lambert conformal"
   ]
  },
  {
   "cell_type": "code",
   "execution_count": null,
   "id": "c4eeaf82",
   "metadata": {},
   "outputs": [],
   "source": [
    "df = pd.read_csv(str(data_dir) + \"/obs/gpm25.csv\")\n",
    "lat, lon, pm25 = df[\"lat\"], df[\"lon\"], df[\"PM2.5\"]\n",
    "var = \"data\""
   ]
  },
  {
   "cell_type": "markdown",
   "id": "101bf371",
   "metadata": {
    "lines_to_next_cell": 0
   },
   "source": [
    "### Create Grid\n",
    " We will create a grid that we want to use for the interpolation.\n"
   ]
  },
  {
   "cell_type": "code",
   "execution_count": null,
   "id": "c4aa4acf",
   "metadata": {
    "lines_to_next_cell": 2
   },
   "outputs": [],
   "source": [
    "## define the desired  grid resolution in degrees\n",
    "resolution = 0.25  # grid cell size in degress\n",
    "\n",
    "## make grid based on dataset bounds and resolution\n",
    "g_lon = np.arange(\n",
    "    df[\"lon\"].min() - resolution,\n",
    "    df[\"lon\"].max() + resolution,\n",
    "    resolution,\n",
    ")\n",
    "g_lat = np.arange(\n",
    "    df[\"lat\"].min() - resolution,\n",
    "    df[\"lat\"].max() + resolution,\n",
    "    resolution,\n",
    ")\n",
    "\n",
    "## use salem to create a dataset with the grid.\n",
    "krig_ds = salem.Grid(\n",
    "    nxny=(len(g_lon), len(g_lat)),\n",
    "    dxdy=(resolution, resolution),\n",
    "    x0y0=(df[\"lon\"].min(), df[\"lat\"].min()),\n",
    "    proj=\"EPSG:4326\",\n",
    "    pixel_ref=\"corner\",\n",
    ").to_dataset()\n",
    "## print dataset\n",
    "krig_ds"
   ]
  },
  {
   "cell_type": "markdown",
   "id": "4b4f3325",
   "metadata": {
    "lines_to_next_cell": 0
   },
   "source": [
    "### Trend model\n",
    "\n",
    "- For regression krigging, we solve the residuals based on a trend model fitted on the relationship of PM2.5 to Elevation.\n",
    "\n",
    "- The trend in this case is define by a simple linear model regression of PM2.5 and elevation\n",
    "\n",
    "- After the linear model regression, we will apply simple kriging (SK) to the residuals.\n",
    "\n",
    "- Note, we obtain elevation at each sensor location from a [digital elevation model](http://research.jisao.washington.edu/data_sets/elevation/) (dem).\n"
   ]
  },
  {
   "cell_type": "markdown",
   "id": "cd849492",
   "metadata": {},
   "source": [
    "### Open DEM Model"
   ]
  },
  {
   "cell_type": "code",
   "execution_count": null,
   "id": "fe536fee",
   "metadata": {},
   "outputs": [],
   "source": [
    "ds = salem.open_xr_dataset(str(data_dir) + f\"/elev.americas.5-min.nc\").isel(time=0)\n",
    "ds[\"lon\"] = ds[\"lon\"] - 360"
   ]
  },
  {
   "cell_type": "markdown",
   "id": "5d632960",
   "metadata": {},
   "source": [
    "#### Plot dem"
   ]
  },
  {
   "cell_type": "code",
   "execution_count": null,
   "id": "216c850e",
   "metadata": {
    "lines_to_next_cell": 2
   },
   "outputs": [],
   "source": [
    "ax = plt.axes(projection=ccrs.Orthographic(-80, 35))\n",
    "ax.set_global()\n",
    "ds[var].plot(\n",
    "    ax=ax, transform=ccrs.PlateCarree(), levels=np.arange(0, 3100, 100), cmap=\"terrain\"\n",
    ")\n",
    "ax.coastlines()\n",
    "ax.set_extent([-132, -85, 35, 65], crs=ccrs.PlateCarree())"
   ]
  },
  {
   "cell_type": "markdown",
   "id": "b841bb09",
   "metadata": {
    "lines_to_next_cell": 0
   },
   "source": [
    "#### DEM at AQs location"
   ]
  },
  {
   "cell_type": "code",
   "execution_count": null,
   "id": "6d4881d5",
   "metadata": {},
   "outputs": [],
   "source": [
    "\n",
    "y = xr.DataArray(\n",
    "    np.array(df[\"lat\"]),\n",
    "    dims=\"ids\",\n",
    "    coords=dict(ids=df.id.values),\n",
    ")\n",
    "x = xr.DataArray(\n",
    "    np.array(df[\"lon\"]),\n",
    "    dims=\"ids\",\n",
    "    coords=dict(ids=df.id.values),\n",
    ")\n",
    "var_points = ds[var].interp(lon=x, lat=y, method=\"linear\")\n",
    "# print(var_points)\n",
    "if len(df.index) == len(var_points.values):\n",
    "    var_points = var_points.values\n",
    "else:\n",
    "    raise ValueError(\"Lengths dont match\")"
   ]
  },
  {
   "cell_type": "markdown",
   "id": "58c0f198",
   "metadata": {
    "lines_to_next_cell": 0
   },
   "source": [
    "### Fit trend\n",
    "Fit linear regression model for pm25 depending on dem and plot"
   ]
  },
  {
   "cell_type": "code",
   "execution_count": null,
   "id": "5c7e8482",
   "metadata": {
    "lines_to_next_cell": 0
   },
   "outputs": [],
   "source": [
    "regress = stats.linregress(var_points, pm25)\n",
    "trend = lambda x, y: regress.intercept + regress.slope * x\n",
    "\n",
    "plt.plot(var_points, pm25, \"o\", label=\"original data\")\n",
    "plt.plot(\n",
    "    var_points, regress.intercept + regress.slope * var_points, \"r\", label=\"fitted line\"\n",
    ")\n",
    "plt.legend()\n",
    "plt.show()"
   ]
  },
  {
   "cell_type": "markdown",
   "id": "6b6aeda3",
   "metadata": {
    "lines_to_next_cell": 0
   },
   "source": [
    "There is clearly no linear trend between elevation and PM2.5 concentration for our case study. one could test different variables, such as AOD in the UK example before, or use more sophisticated machine learning models. However, we will attempt that for this project. Instead, we will test RK with this poorly-fitted linear regression model to show how RK works."
   ]
  },
  {
   "cell_type": "markdown",
   "id": "d7bd71f4",
   "metadata": {
    "lines_to_next_cell": 0
   },
   "source": [
    "### Variogram\n",
    "Make Variogram model in GSTool using a Spherical"
   ]
  },
  {
   "cell_type": "code",
   "execution_count": null,
   "id": "72279ce8",
   "metadata": {
    "lines_to_next_cell": 2
   },
   "outputs": [],
   "source": [
    "bins = gs.standard_bins((lat, lon), max_dist=np.deg2rad(8), latlon=True)\n",
    "bin_c, vario = gs.vario_estimate((lat, lon), pm25, bin_edges=bins, latlon=True)\n",
    "\n",
    "model = gs.Spherical(latlon=True, rescale=gs.EARTH_RADIUS)\n",
    "para, pcov, r2 = model.fit_variogram(bin_c, vario, nugget=False, return_r2=True)\n",
    "ax = model.plot(x_max=bin_c[-1])\n",
    "ax.scatter(bin_c, vario)\n",
    "ax.set_xlabel(\"great circle distance / radians\")\n",
    "ax.set_ylabel(\"semi-variogram\")\n",
    "fig = ax.get_figure()\n",
    "# fig.savefig(os.path.join(\"..\", \"results\", \"variogram.pdf\"), dpi=300)\n",
    "print(r2)"
   ]
  },
  {
   "cell_type": "markdown",
   "id": "b3498c19",
   "metadata": {},
   "source": [
    "### Build Krige  Model"
   ]
  },
  {
   "cell_type": "code",
   "execution_count": null,
   "id": "3143f6b7",
   "metadata": {
    "lines_to_next_cell": 2
   },
   "outputs": [],
   "source": [
    "startTime = datetime.now()\n",
    "dk = gs.krige.Detrended(\n",
    "    model=model,\n",
    "    cond_pos=(lat, lon),\n",
    "    cond_val=pm25.values,\n",
    "    trend=trend,\n",
    ")\n",
    "print(f\"RK build time {datetime.now() - startTime}\")"
   ]
  },
  {
   "cell_type": "markdown",
   "id": "c2bd34f4",
   "metadata": {},
   "source": [
    "### Exectue Krige"
   ]
  },
  {
   "cell_type": "code",
   "execution_count": null,
   "id": "ec0f3fbd",
   "metadata": {
    "lines_to_next_cell": 2
   },
   "outputs": [],
   "source": [
    "startTime = datetime.now()\n",
    "fld_dk = dk((g_lat, g_lon), mesh_type=\"structured\", return_var=False)\n",
    "print(f\"RK exectue time {datetime.now() - startTime}\")\n",
    "\n",
    "RK_pm25 = np.where(fld_dk < 0, 0, fld_dk)"
   ]
  },
  {
   "cell_type": "markdown",
   "id": "cdf5f9c4",
   "metadata": {},
   "source": [
    "### Plot RK\n",
    "Convert data to polygons to be plot-able on a slippy mapbox. This is not necessary but but :)"
   ]
  },
  {
   "cell_type": "code",
   "execution_count": null,
   "id": "0bd890e9",
   "metadata": {},
   "outputs": [],
   "source": [
    "polygons, values = pixel2poly(g_lon, g_lat, RK_pm25, resolution)\n",
    "pm25_model = gpd.GeoDataFrame(\n",
    "    {\"Modelled PM2.5\": values}, geometry=polygons, crs=\"EPSG:4326\"\n",
    ")\n",
    "\n",
    "fig = px.choropleth_mapbox(\n",
    "    pm25_model,\n",
    "    geojson=pm25_model.geometry,\n",
    "    locations=pm25_model.index,\n",
    "    color=\"Modelled PM2.5\",\n",
    "    color_continuous_scale=\"jet\",\n",
    "    center={\"lat\": 50.0, \"lon\": -110.0},\n",
    "    zoom=2.5,\n",
    "    mapbox_style=\"carto-positron\",\n",
    "    opacity=0.6,\n",
    ")\n",
    "fig.update_layout(margin=dict(l=0, r=0, t=30, b=10))\n",
    "fig.update_traces(marker_line_width=0)"
   ]
  }
 ],
 "metadata": {
  "jupytext": {
   "cell_metadata_filter": "-all",
   "main_language": "python",
   "notebook_metadata_filter": "-all"
  }
 },
 "nbformat": 4,
 "nbformat_minor": 5
}
