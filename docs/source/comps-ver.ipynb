{
 "cells": [
  {
   "cell_type": "markdown",
   "id": "7c99b3e6",
   "metadata": {},
   "source": [
    "# Verifying of Kriging\n",
    "\n",
    "To do this, we will use our (July 16, 2021) case study from before but now randomly remove air quality stations from the kriging process in a defined verification area.\n",
    "\n",
    "\n",
    "To do this we will define a buffer area as shown in the figure below. \n",
    "\\\n",
    "![title](_static/img/study-map.png)\n",
    "  - The map above was created in [area-map.py](https://github.com/cerodell/krige-smoke/blob/main/scripts/area-map.py)\n",
    "\n",
    "\\\n",
    "The buffer zone is a 90 km wide zone on the outside of the verification area. The buffer zone contains air quality stations that are always included for each kriging configuration. This buffer zone was created to ensure the outermost stations were kept, which preserves an equal-sized verification area for each configuration.\n",
    "\n",
    "\\\n",
    "The randomly removed air quality station from within the verification area will then be used to verify the interpolated PM 2.5 at \n",
    "their location. We will use simple statics of root mean square error, mean absolute error, and \n",
    "Pearson correlation to test which kriging process under differing configurations.\n",
    "\n",
    "\\\n",
    "\n",
    " The kriging configuration will include:\n",
    "\n",
    " - Ordinary kriging. \n",
    "\n",
    " - Universal kriging with external drift.\n",
    "\n",
    "   - external Z drift is a unique feature where you can provide grided data in 2D, where the z-value (for example, the DEM data) is interpolated to your target points \n",
    "\n",
    " - Universal kriging with specified drift.\n",
    "\n",
    "   - specified drift is the classical form of external drift kriging, where a linear correlated second variable needs to be given at all conditioning points AND at the target points for kriging (this could also be used for DEM data, but you have to provide the data at the exact points, where you want to krige the temperature)\n",
    "\\\n",
    "For UK with external and specified drift, four different covariates are tested. \n",
    "The covariates are:\n",
    "  \n",
    " - elevation (take from a [digital elevation model](http://research.jisao.washington.edu/data_sets/elevation/) \n",
    "\n",
    " - aerosol optical depth (derived from the [modis aqua/terra satellites](https://www.nsstc.uah.edu/data/sundar/MODIS_AOD_L3_HRG/)  \n",
    "\n",
    " - wind direction (as modeled by [ERA5](https://cds.climate.copernicus.eu/cdsapp#!/dataset/reanalysis-era5-single-levels?tab=overview>) \n",
    "\n",
    "\\\n",
    "For each kriging configuration, we test three different percentages of the number of air quality stations removed. The three different percentages were 10%, 30%, and 50%. For each percentage, we also did ten iterations of random removal of air quality stations. These iterations were done to try and make the removal process fairer, but we acknowledge this method could be improved with a better means of random sampling and more iterations.\n",
    "\n",
    "The code to create all the configurations above can be found at:\n",
    "   - [OK-build.py](https://github.com/cerodell/krige-smoke/blob/main/scripts/OK-build.py)\n",
    "   - [UK-aod-build.py](https://github.com/cerodell/krige-smoke/blob/main/scripts/UK-aod-build.py)\n",
    "   - [UK-dem-build.py](https://github.com/cerodell/krige-smoke/blob/main/scripts/UK-dem-build.py)\n",
    "   - [UK-era-build.py](https://github.com/cerodell/krige-smoke/blob/main/scripts/UK-era-build.py)\n",
    "\n"
   ]
  },
  {
   "cell_type": "markdown",
   "id": "d34d3acf",
   "metadata": {
    "lines_to_next_cell": 0
   },
   "source": [
    "## Load python modules/package"
   ]
  },
  {
   "cell_type": "code",
   "execution_count": null,
   "id": "77c06ebd",
   "metadata": {
    "lines_to_next_cell": 2
   },
   "outputs": [],
   "source": [
    "import context\n",
    "import pandas as pd\n",
    "from pathlib import Path\n",
    "from context import data_dir\n",
    "\n",
    "from utils.utils import buildsats, plotsns"
   ]
  },
  {
   "cell_type": "markdown",
   "id": "48465fd2",
   "metadata": {
    "lines_to_next_cell": 0
   },
   "source": [
    "## Get a output of all kriging configurations"
   ]
  },
  {
   "cell_type": "code",
   "execution_count": null,
   "id": "9b04c8fa",
   "metadata": {
    "lines_to_next_cell": 2
   },
   "outputs": [],
   "source": [
    "pathlistUK = sorted(Path(str(data_dir)).glob(f\"UK-*\"))\n",
    "pathlistOK = sorted(Path(str(data_dir)).glob(f\"OK-*\"))\n",
    "\n",
    "pathlist = pathlistOK + pathlistUK\n",
    "\n",
    "# print(pathlist)"
   ]
  },
  {
   "cell_type": "markdown",
   "id": "d53381da",
   "metadata": {
    "lines_to_next_cell": 0
   },
   "source": [
    "## Open kriging configurations and perform stats"
   ]
  },
  {
   "cell_type": "code",
   "execution_count": null,
   "id": "72f65fa9",
   "metadata": {},
   "outputs": [],
   "source": [
    "df_final = pd.concat([buildsats(path) for path in pathlist]).reset_index()\n",
    "\n"
   ]
  },
  {
   "cell_type": "markdown",
   "id": "3071ab64",
   "metadata": {
    "lines_to_next_cell": 0
   },
   "source": [
    "## Plot results of Mean Absolute  Error"
   ]
  },
  {
   "cell_type": "code",
   "execution_count": null,
   "id": "4218f7dc",
   "metadata": {
    "lines_to_next_cell": 0
   },
   "outputs": [],
   "source": [
    "plotsns(\"mae\", cmap=\"coolwarm\", df_final= df_final)"
   ]
  },
  {
   "cell_type": "markdown",
   "id": "c0605a5f",
   "metadata": {
    "lines_to_next_cell": 0
   },
   "source": [
    "Based on  Mean Absolute  Error, Ordinary Kriging is the most accurate for each percentage of randomly removed aq monitors. "
   ]
  },
  {
   "cell_type": "markdown",
   "id": "dd7afd39",
   "metadata": {
    "lines_to_next_cell": 0
   },
   "source": [
    "## Plot results of Root Mean Square Error"
   ]
  },
  {
   "cell_type": "code",
   "execution_count": null,
   "id": "9d096909",
   "metadata": {},
   "outputs": [],
   "source": [
    "plotsns(\"rmse\", cmap=\"coolwarm\", df_final= df_final)"
   ]
  },
  {
   "cell_type": "markdown",
   "id": "9bfd3152",
   "metadata": {
    "lines_to_next_cell": 0
   },
   "source": [
    "Based on Root Mean Square Error, Ordinary Kriging is the most accurate for each percentage of randomly removed aq monitors. "
   ]
  },
  {
   "cell_type": "markdown",
   "id": "7c7701ab",
   "metadata": {
    "lines_to_next_cell": 0
   },
   "source": [
    "## Plot results of Pearsons Corelation"
   ]
  },
  {
   "cell_type": "code",
   "execution_count": null,
   "id": "e076f256",
   "metadata": {},
   "outputs": [],
   "source": [
    "plotsns(\"pr\", cmap=\"coolwarm_r\", df_final= df_final)"
   ]
  },
  {
   "cell_type": "markdown",
   "id": "d7f9f656",
   "metadata": {
    "lines_to_next_cell": 2
   },
   "source": [
    "Based on Pearsons Corelation, Ordinary Kriging is the most accurate for each percentage of randomly removed aq monitors. \n",
    "\n",
    "\n"
   ]
  }
 ],
 "metadata": {
  "jupytext": {
   "cell_metadata_filter": "-all",
   "main_language": "python",
   "notebook_metadata_filter": "-all"
  }
 },
 "nbformat": 4,
 "nbformat_minor": 5
}
